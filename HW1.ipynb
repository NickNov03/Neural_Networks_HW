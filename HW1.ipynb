{
 "cells": [
  {
   "cell_type": "markdown",
   "metadata": {},
   "source": [
    "# Задача 1.\n",
    "* Исследовать качество работы классификаторы в зависимости от выбранного метода преобразования данных\n",
    "* Изучить методы преобразования данных: from sklearn.preprocessing https://scikit-learn.org/stable/modules/preprocessing.html\n",
    "* Критерий качества - accuracy\n",
    "* Сформировать таблицу для сравнения"
   ]
  },
  {
   "cell_type": "code",
   "execution_count": 2,
   "metadata": {},
   "outputs": [],
   "source": [
    "from sklearn.datasets import load_iris\n",
    "\n",
    "iris = load_iris()\n",
    "X, y = iris.data, iris.target"
   ]
  },
  {
   "cell_type": "code",
   "execution_count": 4,
   "metadata": {},
   "outputs": [],
   "source": [
    "from sklearn.model_selection import train_test_split\n",
    "\n",
    "X_train, X_test, y_train, y_test = train_test_split(X, y, test_size=0.3, random_state=42)"
   ]
  },
  {
   "cell_type": "code",
   "execution_count": 22,
   "metadata": {},
   "outputs": [],
   "source": [
    "from sklearn.preprocessing import StandardScaler, MinMaxScaler, Normalizer, KBinsDiscretizer, MaxAbsScaler, RobustScaler\n",
    "\n",
    "preprocessors = {\n",
    "    # linear transformators:\n",
    "    'StandardScaler': StandardScaler(), # x := (x - mean) / std\n",
    "    'MinMaxScaler': MinMaxScaler(), # scaling to new range [min, max]\n",
    "    'MaxAbsScaler': MaxAbsScaler(), # scales same as MinMaxScaler but scales each attribute individually to range [-1,1]\n",
    "    # normalizers:\n",
    "    'Normalizer': Normalizer(), # normalizing each vector\n",
    "    # discretizers:\n",
    "    'KBinsDiscretizer': KBinsDiscretizer()\n",
    "}"
   ]
  },
  {
   "cell_type": "code",
   "execution_count": 20,
   "metadata": {},
   "outputs": [],
   "source": [
    "from sklearn.neighbors import KNeighborsClassifier\n",
    "\n",
    "classifier = KNeighborsClassifier(n_neighbors=1)"
   ]
  },
  {
   "cell_type": "code",
   "execution_count": 33,
   "metadata": {},
   "outputs": [],
   "source": [
    "from sklearn.metrics import accuracy_score\n",
    "\n",
    "accuracies = []\n",
    "\n",
    "for method_name, transformer in preprocessors.items():\n",
    "\n",
    "    X_train_transformed = transformer.fit_transform(X_train)\n",
    "    X_test_transformed = transformer.transform(X_test)\n",
    "\n",
    "    classifier.fit(X_train_transformed, y_train)\n",
    "\n",
    "    y_pred = classifier.predict(X_test_transformed)\n",
    "\n",
    "    accuracy = accuracy_score(y_test, y_pred)\n",
    "\n",
    "    accuracies.append({\n",
    "        method_name: accuracy \n",
    "    })"
   ]
  },
  {
   "cell_type": "code",
   "execution_count": 34,
   "metadata": {},
   "outputs": [
    {
     "data": {
      "text/plain": [
       "[{'StandardScaler': 0.9777777777777777},\n",
       " {'MinMaxScaler': 1.0},\n",
       " {'MaxAbsScaler': 0.9777777777777777},\n",
       " {'Normalizer': 0.9777777777777777},\n",
       " {'KBinsDiscretizer': 0.9333333333333333}]"
      ]
     },
     "execution_count": 34,
     "metadata": {},
     "output_type": "execute_result"
    }
   ],
   "source": [
    "accuracies"
   ]
  }
 ],
 "metadata": {
  "kernelspec": {
   "display_name": "Python 3",
   "language": "python",
   "name": "python3"
  },
  "language_info": {
   "codemirror_mode": {
    "name": "ipython",
    "version": 3
   },
   "file_extension": ".py",
   "mimetype": "text/x-python",
   "name": "python",
   "nbconvert_exporter": "python",
   "pygments_lexer": "ipython3",
   "version": "3.12.1"
  }
 },
 "nbformat": 4,
 "nbformat_minor": 2
}
